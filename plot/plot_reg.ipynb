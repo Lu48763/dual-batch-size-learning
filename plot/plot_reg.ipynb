{
 "cells": [
  {
   "cell_type": "code",
   "execution_count": null,
   "id": "3b5e81b8-7cf2-4b9f-98d7-11f7587b637b",
   "metadata": {},
   "outputs": [],
   "source": [
    "import matplotlib.pyplot as plt\n",
    "import matplotlib.transforms as transforms\n",
    "import numpy as np"
   ]
  },
  {
   "cell_type": "code",
   "execution_count": null,
   "id": "92c8432b-1b20-4145-a85f-b79431cd570f",
   "metadata": {},
   "outputs": [],
   "source": [
    "resize = 1\n",
    "plt.rcParams.update({\n",
    "    \"figure.figsize\": (6.4*resize, 4.0*resize), # (6.4, 4.8)[4:3] -> (6.4, 4.0)[8:5]\n",
    "    \"font.sans-serif\": [\"Helvetica\", \"Nimbus Sans\", \"Arial\", \"DejaVu Sans\"],\n",
    "})"
   ]
  },
  {
   "cell_type": "code",
   "execution_count": null,
   "id": "ded27053-b2af-4602-90d5-c89ff0445a76",
   "metadata": {},
   "outputs": [],
   "source": [
    "cifar_predict_mem = 25147401329.523815\n",
    "cifar_measure_mem = 24289865216\n",
    "cifar_measure_bs = 11147\n",
    "\n",
    "imagenet_predict_mem = 25146805725.333332\n",
    "imagenet_measure_mem = 24247172096\n",
    "imagenet_measure_bs = 1345\n",
    "\n",
    "mem_max = 25147867136"
   ]
  },
  {
   "cell_type": "code",
   "execution_count": null,
   "id": "63899cd1-a92a-44df-88db-f056ee3a505e",
   "metadata": {},
   "outputs": [],
   "source": [
    "# relative error\n",
    "cifar_error = (cifar_predict_mem - cifar_measure_mem) / cifar_measure_mem\n",
    "imagenet_error = (imagenet_predict_mem - imagenet_measure_mem) / imagenet_measure_mem\n",
    "print(f'cifar relative error: {cifar_error: .3f}')\n",
    "print(f'imagenet relative error: {imagenet_error: .3f}')"
   ]
  },
  {
   "cell_type": "code",
   "execution_count": null,
   "id": "d33080d9-a670-4246-ba19-afed87e80056",
   "metadata": {},
   "outputs": [],
   "source": [
    "SAVE = True\n",
    "fig_path = './figure'"
   ]
  },
  {
   "cell_type": "code",
   "execution_count": null,
   "id": "0772b668-8df9-4dc6-85fc-cf9a71b97885",
   "metadata": {},
   "outputs": [],
   "source": [
    "species = ['CIFAR-100', 'ImageNet']\n",
    "mem = {\n",
    "    'prediction': [i / 2**20 for i in [cifar_predict_mem, imagenet_predict_mem]],\n",
    "    'measurement': [i / 2**20 for i in [cifar_measure_mem, imagenet_measure_mem]],\n",
    "}\n",
    "x = np.arange(len(species))\n",
    "width = 0.25\n",
    "multiplier = 0\n",
    "\n",
    "fig, ax = plt.subplots()#(dpi=300)\n",
    "\n",
    "for attribute, value in mem.items():\n",
    "    offset = width * multiplier\n",
    "    rects = ax.bar(x + offset, value, width, label=attribute)\n",
    "    ax.bar_label(rects)\n",
    "    multiplier += 1\n",
    "\n",
    "GPU_MiB = mem_max / 2**20\n",
    "ax.axhline(y=GPU_MiB, color='red', linestyle='--')\n",
    "trans = transforms.blended_transform_factory(ax.get_yticklabels()[0].get_transform(), ax.transData)\n",
    "ax.text(0, GPU_MiB, \"{:.0f}\".format(GPU_MiB), color=\"red\", transform=trans, ha=\"right\", va=\"center\")\n",
    "\n",
    "ax.set_ylabel('Memory Usage (MiB)')\n",
    "ax.set_xlabel('Dataset')\n",
    "ax.set_xticks(x + width / len(species), species)\n",
    "ax.legend()\n",
    "\n",
    "if SAVE:\n",
    "    plt.savefig(f'{fig_path}/mem_usage_reg.pdf', bbox_inches=\"tight\")\n",
    "else:\n",
    "    ax.set_title('Memory Usage for Training ResNet-18')\n",
    "    plt.show()"
   ]
  },
  {
   "cell_type": "code",
   "execution_count": null,
   "id": "e9e0d24b-0c62-4ed2-9345-2cdace5c31ab",
   "metadata": {},
   "outputs": [],
   "source": []
  }
 ],
 "metadata": {
  "kernelspec": {
   "display_name": "Python 3 (ipykernel)",
   "language": "python",
   "name": "python3"
  },
  "language_info": {
   "codemirror_mode": {
    "name": "ipython",
    "version": 3
   },
   "file_extension": ".py",
   "mimetype": "text/x-python",
   "name": "python",
   "nbconvert_exporter": "python",
   "pygments_lexer": "ipython3",
   "version": "3.13.5"
  },
  "widgets": {
   "application/vnd.jupyter.widget-state+json": {
    "state": {},
    "version_major": 2,
    "version_minor": 0
   }
  }
 },
 "nbformat": 4,
 "nbformat_minor": 5
}
